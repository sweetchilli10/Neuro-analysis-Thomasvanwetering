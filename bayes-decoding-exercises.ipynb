{
 "cells": [
  {
   "cell_type": "markdown",
   "metadata": {},
   "source": [
    "# Exercises"
   ]
  },
  {
   "cell_type": "code",
   "execution_count": 104,
   "metadata": {},
   "outputs": [],
   "source": [
    "import numpy as np\n",
    "import scipy\n",
    "import scipy.stats\n",
    "import scipy.io\n",
    "import matplotlib\n",
    "import matplotlib.pyplot as plt\n",
    "from tqdm import tqdm\n",
    "from scipy.stats import poisson\n",
    "%matplotlib inline \n",
    "plt.rcParams['figure.figsize'] = [10, 5]\n",
    "from ipywidgets import interact\n",
    "import ipywidgets as widgets\n",
    "import seaborn as sns\n",
    "\n",
    "\n",
    "track_length = 200. # the length of our linear track (eg in centimeter)\n",
    "average_firing_rate = 5 # the peak firing rate, averaged across the population \n",
    "n_cells = 100 # how many cells we are recording\n",
    "pf_centers = np.random.rand(n_cells) * track_length # the centers of the place fields for all cells drawn randomly with a uniform distribution on the track\n",
    "pf_size = np.random.gamma(10, size=n_cells) # the size (width) of the place fields, drawn randomly from a gamma distribution \n",
    "pf_rate = np.random.exponential(scale=average_firing_rate, size=n_cells) # the peak firing rate for each cell, drawn from an exponential distribution"
   ]
  },
  {
   "cell_type": "code",
   "execution_count": 2,
   "metadata": {},
   "outputs": [],
   "source": [
    "bins = np.arange(0., 200.)\n",
    "true_firing_rate_maps = np.zeros((n_cells, len(bins)))\n",
    "for i in range(n_cells):\n",
    "    true_firing_rate_maps[i,:] = pf_rate[i] * np.exp(-((bins-pf_centers[i])**2)/(2*pf_size[i]**2))"
   ]
  },
  {
   "cell_type": "code",
   "execution_count": 3,
   "metadata": {},
   "outputs": [],
   "source": [
    "# GENERATE TRAJECTORY\n",
    "\n",
    "n_runs = 10\n",
    "use_stops = False\n",
    "av_running_speed = 10 # the average running speed (in cm/s)\n",
    "fps = 10 # the number of \"video frames\" per second \n",
    "running_speed_a = np.random.chisquare(10, size=n_runs) # running speed in the two directions\n",
    "running_speed_b = np.random.chisquare(10, size=n_runs) \n",
    "\n",
    "stopping_time_a = np.random.chisquare(15, size=n_runs) # the time the mouse will spend at the two ends of the track\n",
    "stopping_time_b = np.random.chisquare(15, size=n_runs)\n",
    "\n",
    "x = np.array([])\n",
    "\n",
    "\n",
    "for i in range(n_runs):\n",
    "    stop1 = np.ones((int(stopping_time_a[i]*fps),)) * 0.\n",
    "    run_length = len(bins) * fps / running_speed_a[i]\n",
    "    run1 = np.linspace(0., float(len(bins)-1), int(run_length))\n",
    "    stop2 = np.ones((int(stopping_time_b[i]*fps),)) * (len(bins)-1.)\n",
    "    run_length = len(bins) * fps / running_speed_b[i]\n",
    "    run2 = np.linspace(len(bins)-1., 0., int(run_length))\n",
    "    if use_stops:\n",
    "        x = np.concatenate((x, stop1, run1, stop2, run2))\n",
    "    else:\n",
    "         x = np.concatenate((x, run1, run2))\n",
    "t = np.arange(len(x))/fps"
   ]
  },
  {
   "cell_type": "code",
   "execution_count": 4,
   "metadata": {},
   "outputs": [],
   "source": [
    "sampling_rate = 10000.\n",
    "t_sampling = np.arange(0, t[-1], 1. / sampling_rate)\n",
    "x_sampling = np.floor(np.interp(t_sampling, t, x))\n",
    "noise_firing_rate = 0.1 # the baseline noise firing rate\n",
    "spikes = []\n",
    "\n",
    "for i in range(n_cells):\n",
    "    inst_rate = true_firing_rate_maps[i,x_sampling.astype(np.int32)] + noise_firing_rate\n",
    "    spikes_loc = np.random.poisson(inst_rate/sampling_rate)\n",
    "    sp = np.argwhere(spikes_loc)\n",
    "    t_sp = t_sampling[sp]\n",
    "    spikes.append(t_sp)"
   ]
  },
  {
   "cell_type": "code",
   "execution_count": 5,
   "metadata": {},
   "outputs": [],
   "source": [
    "import pickle\n",
    "\n",
    "file_name = 'linear_track_data.pickle' # change this name when you save new data\n",
    "\n",
    "out_data = {}\n",
    "out_data['x'] = x\n",
    "out_data['t'] = t\n",
    "out_data['spikes'] = spikes\n",
    "out_data['track_length'] = track_length\n",
    "out_data['fps'] = fps\n",
    "\n",
    "with open('data/'+file_name,'wb') as f:\n",
    "    pickle.dump(out_data,f)"
   ]
  },
  {
   "cell_type": "markdown",
   "metadata": {},
   "source": [
    "## Exercise 1\n",
    "---\n",
    "\n",
    "You can find below the code that was used to generate the activity of place cells on a linear track.\n",
    "Use the code and the decoding procedure you lerned about in the lesson to explore how different features of the data impact our ability to decode position.\n",
    "In particular:\n",
    "\n",
    "A - Try to use different fractions of our data samples. How does the median error change when the the number of available sample gets larger? You do not need to re-generate any data, just randomly sub-sample the data to different fractions.\n",
    "\n",
    "B - How many place cells do we need to reliably decode position? Try to re-do the decoding using only 10 cell, then 20, and so on. How does the median error change? Does it reach an asymptote? (Also in this case, you do not need to re-generate the data, you can just select a random subset of cells each time)\n",
    "\n",
    "C - Generate new data using the code below, changing the firing rate noise (changing the value of the variable `noise firing_rate`). How does this noise impact the decoding? "
   ]
  },
  {
   "cell_type": "markdown",
   "metadata": {},
   "source": [
    "exercise 1-A"
   ]
  },
  {
   "cell_type": "code",
   "execution_count": 60,
   "metadata": {},
   "outputs": [
    {
     "name": "stderr",
     "output_type": "stream",
     "text": [
      "100%|██████████| 436/436 [00:00<00:00, 8709.87it/s]\n"
     ]
    },
    {
     "name": "stdout",
     "output_type": "stream",
     "text": [
      "Fraction: 0.1, Median Error: 8.413662239089177\n"
     ]
    },
    {
     "name": "stderr",
     "output_type": "stream",
     "text": [
      "100%|██████████| 874/874 [00:00<00:00, 9305.67it/s]\n"
     ]
    },
    {
     "name": "stdout",
     "output_type": "stream",
     "text": [
      "Fraction: 0.2, Median Error: 4.95640495867768\n"
     ]
    },
    {
     "name": "stderr",
     "output_type": "stream",
     "text": [
      "100%|██████████| 1311/1311 [00:00<00:00, 9488.95it/s]\n"
     ]
    },
    {
     "name": "stdout",
     "output_type": "stream",
     "text": [
      "Fraction: 0.3, Median Error: 3.983098591549293\n"
     ]
    },
    {
     "name": "stderr",
     "output_type": "stream",
     "text": [
      "100%|██████████| 1749/1749 [00:00<00:00, 9865.80it/s]\n"
     ]
    },
    {
     "name": "stdout",
     "output_type": "stream",
     "text": [
      "Fraction: 0.4, Median Error: 3.7450199203187253\n"
     ]
    },
    {
     "name": "stderr",
     "output_type": "stream",
     "text": [
      "100%|██████████| 2187/2187 [00:00<00:00, 9962.60it/s] \n"
     ]
    },
    {
     "name": "stdout",
     "output_type": "stream",
     "text": [
      "Fraction: 0.5, Median Error: 3.3452400082642697\n"
     ]
    },
    {
     "name": "stderr",
     "output_type": "stream",
     "text": [
      "100%|██████████| 3499/3499 [00:00<00:00, 9995.83it/s] \n"
     ]
    },
    {
     "name": "stdout",
     "output_type": "stream",
     "text": [
      "Fraction: 0.8, Median Error: 3.3954372623574045\n"
     ]
    },
    {
     "data": {
      "image/png": "[encoded data removed]",
      "text/plain": [
       "<Figure size 1000x500 with 1 Axes>"
      ]
     },
     "metadata": {},
     "output_type": "display_data"
    }
   ],
   "source": [
    "fractions = [0.1, 0.2, 0.3, 0.4, 0.5, 0.8]\n",
    "\n",
    "# Perform decoding for each fraction\n",
    "median_errors = np.zeros(len(fractions))\n",
    "\n",
    "for i, fraction in enumerate(fractions):\n",
    "    num_samples = int(len(x) * fraction)\n",
    "    random_indices = np.sort(np.random.choice(len(x), size=num_samples, replace=False))\n",
    "    sub_x = x[random_indices]\n",
    "    sub_t = t[random_indices]\n",
    "    spike_positions = [np.interp(s, sub_t, sub_x) for s in spikes]\n",
    "    space_bins = np.arange(0., track_length, 5.)  # binning in bins of 5 cms\n",
    "\n",
    "    # Compute histograms for each cell\n",
    "    spikes_hist = np.array([np.histogram(s, space_bins)[0] for s in spike_positions])\n",
    "\n",
    "    # Compute occupancy histogram to normalize the firing rates maps\n",
    "    occupancy = np.histogram(sub_x, space_bins)[0] / fps\n",
    "    occupancy[occupancy == 0] = np.nan\n",
    "    firing_rate_maps = spikes_hist / occupancy\n",
    "\n",
    "    # Compute spike counts\n",
    "    spikes_count = np.array([np.histogram(s, sub_t)[0] for s in spikes]).T  # Transpose to have samples x features shape\n",
    "\n",
    "    true_x = sub_x[:-1]\n",
    "    decoding_times = sub_t[:-1]\n",
    "    x_decoded = np.full_like(true_x, np.nan)  # Initialize with NaNs\n",
    "\n",
    "    # Calculate posterior and decode\n",
    "    for t_bin in tqdm(range(len(decoding_times))):\n",
    "        if np.sum(spikes_count[t_bin, :]) > 0:  # Check if the time window contains spikes\n",
    "            posterior = np.nansum(poisson.logpmf(spikes_count[t_bin, :, None], firing_rate_maps / fps), axis=0)\n",
    "            x_decoded[t_bin] = space_bins[np.nanargmax(posterior)]\n",
    "        else:\n",
    "            x_decoded[t_bin] = np.nan   \n",
    "\n",
    "    # Compute error\n",
    "    valid_indices = ~np.isnan(x_decoded)\n",
    "    mse = np.sqrt((true_x[valid_indices] - x_decoded[valid_indices])**2)\n",
    "    median_error = np.nanmedian(mse)\n",
    "    median_errors[i] = median_error\n",
    "    print(f\"Fraction: {fraction:.1f}, Median Error: {median_error}\")\n",
    "\n",
    "# Plotting the results\n",
    "plt.plot(fractions, median_errors, marker='o')\n",
    "plt.xlabel('Fraction of Data Used')\n",
    "plt.ylabel('Median Decoding Error')\n",
    "plt.title('Median Decoding Error vs. Fraction of Data Used')\n",
    "plt.grid(True)\n",
    "plt.show()"
   ]
  },
  {
   "cell_type": "markdown",
   "metadata": {},
   "source": [
    "the median error decrease, at 0.5 the optimum seems to be reached"
   ]
  },
  {
   "cell_type": "markdown",
   "metadata": {},
   "source": [
    "excercise 1-B"
   ]
  },
  {
   "cell_type": "code",
   "execution_count": 70,
   "metadata": {},
   "outputs": [
    {
     "name": "stderr",
     "output_type": "stream",
     "text": [
      "100%|██████████| 4375/4375 [00:00<00:00, 49482.47it/s]\n"
     ]
    },
    {
     "name": "stdout",
     "output_type": "stream",
     "text": [
      "Number of Cells: 10, Median Error: 8.087323943661971\n"
     ]
    },
    {
     "name": "stderr",
     "output_type": "stream",
     "text": [
      "100%|██████████| 4375/4375 [00:00<00:00, 28033.36it/s]\n"
     ]
    },
    {
     "name": "stdout",
     "output_type": "stream",
     "text": [
      "Number of Cells: 20, Median Error: 7.327008783495195\n"
     ]
    },
    {
     "name": "stderr",
     "output_type": "stream",
     "text": [
      "100%|██████████| 4375/4375 [00:00<00:00, 22937.86it/s]\n"
     ]
    },
    {
     "name": "stdout",
     "output_type": "stream",
     "text": [
      "Number of Cells: 30, Median Error: 6.596958174904955\n"
     ]
    },
    {
     "name": "stderr",
     "output_type": "stream",
     "text": [
      "100%|██████████| 4375/4375 [00:00<00:00, 18492.14it/s]\n"
     ]
    },
    {
     "name": "stdout",
     "output_type": "stream",
     "text": [
      "Number of Cells: 40, Median Error: 5.03206997084547\n"
     ]
    },
    {
     "name": "stderr",
     "output_type": "stream",
     "text": [
      "100%|██████████| 4375/4375 [00:00<00:00, 15785.50it/s]\n"
     ]
    },
    {
     "name": "stdout",
     "output_type": "stream",
     "text": [
      "Number of Cells: 50, Median Error: 4.793388429752071\n"
     ]
    },
    {
     "name": "stderr",
     "output_type": "stream",
     "text": [
      "100%|██████████| 4375/4375 [00:00<00:00, 11730.01it/s]\n"
     ]
    },
    {
     "name": "stdout",
     "output_type": "stream",
     "text": [
      "Number of Cells: 80, Median Error: 3.7963655581754665\n"
     ]
    },
    {
     "name": "stderr",
     "output_type": "stream",
     "text": [
      "100%|██████████| 4375/4375 [00:00<00:00, 10089.10it/s]"
     ]
    },
    {
     "name": "stdout",
     "output_type": "stream",
     "text": [
      "Number of Cells: 100, Median Error: 3.4127134724857626\n"
     ]
    },
    {
     "name": "stderr",
     "output_type": "stream",
     "text": [
      "\n"
     ]
    },
    {
     "data": {
      "image/png": "[encoded data removed]",
      "text/plain": [
       "<Figure size 1000x500 with 1 Axes>"
      ]
     },
     "metadata": {},
     "output_type": "display_data"
    }
   ],
   "source": [
    "n_cells_list = [10, 20, 30, 40, 50, 80, 100]\n",
    "\n",
    "# Perform decoding for each fraction\n",
    "median_errors = np.zeros(len(n_cells_list))\n",
    "\n",
    "for i, num_cells in enumerate(n_cells_list):\n",
    "    # Randomly select num_cells from spikes\n",
    "    selected_indices = np.sort(np.random.choice(len(spikes), size=num_cells, replace=False))\n",
    "    selected_spikes = [spikes[idx] for idx in selected_indices]\n",
    "    \n",
    "    spike_positions = [np.interp(s, t, x) for s in selected_spikes]\n",
    "    space_bins = np.arange(0., track_length, 5.)  # binning in bins of 5 cms\n",
    "\n",
    "    # Compute histograms for each cell\n",
    "    spikes_hist = np.array([np.histogram(s, space_bins)[0] for s in spike_positions])\n",
    "\n",
    "    # Compute occupancy histogram to normalize the firing rates maps\n",
    "    occupancy = np.histogram(x, space_bins)[0] / fps\n",
    "    occupancy[occupancy == 0] = np.nan\n",
    "    firing_rate_maps = spikes_hist / occupancy\n",
    "\n",
    "    # Compute spike counts\n",
    "    spikes_count = np.array([np.histogram(s, t)[0] for s in selected_spikes]).T  # Transpose to have samples x features shape\n",
    "\n",
    "    true_x = x[:-1]\n",
    "    decoding_times = t[:-1]\n",
    "    x_decoded = np.full_like(true_x, np.nan)  # Initialize with NaNs\n",
    "\n",
    "    # Calculate posterior and decode\n",
    "    for t_bin in tqdm(range(len(decoding_times))):\n",
    "        if np.sum(spikes_count[t_bin, :]) > 0:  # Check if the time window contains spikes\n",
    "            posterior = np.nansum(poisson.logpmf(spikes_count[t_bin, :, None], firing_rate_maps / fps), axis=0)\n",
    "            x_decoded[t_bin] = space_bins[np.nanargmax(posterior)]\n",
    "        else:\n",
    "            x_decoded[t_bin] = np.nan   \n",
    "\n",
    "    # Compute error\n",
    "    valid_indices = ~np.isnan(x_decoded)\n",
    "    mse = np.sqrt((true_x[valid_indices] - x_decoded[valid_indices])**2)\n",
    "    median_error = np.nanmedian(mse)\n",
    "    median_errors[i] = median_error\n",
    "    print(f\"Number of Cells: {num_cells}, Median Error: {median_error}\")\n",
    "\n",
    "# Plotting the results\n",
    "plt.plot(n_cells_list, median_errors, marker='o')\n",
    "plt.xlabel('Number of Cells Used')\n",
    "plt.ylabel('Median Decoding Error')\n",
    "plt.title('Median Decoding Error vs. Number of Cells Used')\n",
    "plt.grid(True)\n",
    "plt.show()"
   ]
  },
  {
   "cell_type": "markdown",
   "metadata": {},
   "source": [
    "Also here you can see a decrease in the median error, as the number of cells increase."
   ]
  },
  {
   "cell_type": "markdown",
   "metadata": {},
   "source": [
    "exercise 1-C"
   ]
  },
  {
   "cell_type": "code",
   "execution_count": 73,
   "metadata": {},
   "outputs": [
    {
     "name": "stderr",
     "output_type": "stream",
     "text": [
      "100%|██████████| 4375/4375 [00:00<00:00, 9806.54it/s]\n"
     ]
    },
    {
     "name": "stdout",
     "output_type": "stream",
     "text": [
      "Noise Level: 0.0, Median Error: 3.4127134724857626\n"
     ]
    },
    {
     "name": "stderr",
     "output_type": "stream",
     "text": [
      "100%|██████████| 4375/4375 [00:00<00:00, 8367.79it/s]\n"
     ]
    },
    {
     "name": "stdout",
     "output_type": "stream",
     "text": [
      "Noise Level: 0.1, Median Error: 11.454971233468939\n"
     ]
    },
    {
     "name": "stderr",
     "output_type": "stream",
     "text": [
      "100%|██████████| 4375/4375 [00:00<00:00, 8270.40it/s]\n"
     ]
    },
    {
     "name": "stdout",
     "output_type": "stream",
     "text": [
      "Noise Level: 0.2, Median Error: 47.64093712602412\n"
     ]
    },
    {
     "name": "stderr",
     "output_type": "stream",
     "text": [
      "100%|██████████| 4375/4375 [00:00<00:00, 8309.58it/s]\n"
     ]
    },
    {
     "name": "stdout",
     "output_type": "stream",
     "text": [
      "Noise Level: 0.3, Median Error: 54.71405460958712\n"
     ]
    },
    {
     "name": "stderr",
     "output_type": "stream",
     "text": [
      "100%|██████████| 4375/4375 [00:00<00:00, 8294.04it/s]\n"
     ]
    },
    {
     "name": "stdout",
     "output_type": "stream",
     "text": [
      "Noise Level: 0.4, Median Error: 64.95040981448656\n"
     ]
    },
    {
     "name": "stderr",
     "output_type": "stream",
     "text": [
      "100%|██████████| 4375/4375 [00:00<00:00, 8478.69it/s]\n"
     ]
    },
    {
     "name": "stdout",
     "output_type": "stream",
     "text": [
      "Noise Level: 0.5, Median Error: 67.06359915363004\n"
     ]
    },
    {
     "name": "stderr",
     "output_type": "stream",
     "text": [
      "100%|██████████| 4375/4375 [00:00<00:00, 8509.57it/s]\n"
     ]
    },
    {
     "name": "stdout",
     "output_type": "stream",
     "text": [
      "Noise Level: 0.8, Median Error: 70.32831384981178\n"
     ]
    },
    {
     "name": "stderr",
     "output_type": "stream",
     "text": [
      "100%|██████████| 4375/4375 [00:00<00:00, 8500.70it/s]"
     ]
    },
    {
     "name": "stdout",
     "output_type": "stream",
     "text": [
      "Noise Level: 1.0, Median Error: 66.96487628613424\n"
     ]
    },
    {
     "name": "stderr",
     "output_type": "stream",
     "text": [
      "\n"
     ]
    },
    {
     "data": {
      "image/png": "[encoded data removed]",
      "text/plain": [
       "<Figure size 1000x500 with 1 Axes>"
      ]
     },
     "metadata": {},
     "output_type": "display_data"
    }
   ],
   "source": [
    "noise_levels = [0.0, 0.1, 0.2, 0.3, 0.4, 0.5, 0.8, 1]\n",
    "\n",
    "# Perform decoding for each noise level\n",
    "median_errors = np.zeros(len(noise_levels))\n",
    "\n",
    "for i, noise_level in enumerate(noise_levels):\n",
    "    spike_positions = [np.interp(s, t, x) for s in spikes]\n",
    "    space_bins = np.arange(0., track_length, 5.)  # binning in bins of 5 cms\n",
    "\n",
    "    # Compute histograms for each cell\n",
    "    spikes_hist = np.array([np.histogram(s, space_bins)[0] for s in spike_positions])\n",
    "\n",
    "    # Compute occupancy histogram to normalize the firing rates maps\n",
    "    occupancy = np.histogram(x, space_bins)[0] / fps\n",
    "    occupancy[occupancy == 0] = np.nan\n",
    "    firing_rate_maps = spikes_hist / occupancy\n",
    "\n",
    "    # Add noise to the firing rate maps\n",
    "    noise = np.random.normal(0, noise_level, firing_rate_maps.shape)\n",
    "    noisy_firing_rate_maps = firing_rate_maps + noise\n",
    "\n",
    "    # Compute spike counts\n",
    "    spikes_count = np.array([np.histogram(s, t)[0] for s in spikes]).T  # Transpose to have samples x features shape\n",
    "\n",
    "    true_x = x[:-1]\n",
    "    decoding_times = t[:-1]\n",
    "    x_decoded = np.full_like(true_x, np.nan)  # Initialize with NaNs\n",
    "\n",
    "    # Calculate posterior and decode\n",
    "    for t_bin in tqdm(range(len(decoding_times))):\n",
    "        if np.sum(spikes_count[t_bin, :]) > 0:  # Check if the time window contains spikes\n",
    "            posterior = np.nansum(poisson.logpmf(spikes_count[t_bin, :, None], noisy_firing_rate_maps / fps), axis=0)\n",
    "            x_decoded[t_bin] = space_bins[np.nanargmax(posterior)]\n",
    "        else:\n",
    "            x_decoded[t_bin] = np.nan   \n",
    "\n",
    "    # Compute error\n",
    "    valid_indices = ~np.isnan(x_decoded)\n",
    "    mse = np.sqrt((true_x[valid_indices] - x_decoded[valid_indices])**2)\n",
    "    median_error = np.nanmedian(mse)\n",
    "    median_errors[i] = median_error\n",
    "    print(f\"Noise Level: {noise_level:.1f}, Median Error: {median_error}\")\n",
    "\n",
    "# Plotting the results\n",
    "plt.plot(noise_levels, median_errors, marker='o')\n",
    "plt.xlabel('Noise Level')\n",
    "plt.ylabel('Median Decoding Error')\n",
    "plt.title('Median Decoding Error vs. Noise Level')\n",
    "plt.grid(True)\n",
    "plt.show()\n"
   ]
  },
  {
   "cell_type": "markdown",
   "metadata": {},
   "source": [
    "here you can see an increase in the median error, thus the noise levels negatively impact the decoding"
   ]
  },
  {
   "cell_type": "markdown",
   "metadata": {},
   "source": [
    "## Exercise 2\n",
    "---\n",
    "In the loop implementation of the decoder, we used `poisson.logpmf(k,mu)` to calculate the log probability of observing $k$ spikes given an average firing rate of $\\mu$. \n",
    "This is mathematically equivalent to `np.log(poisson.pmf(k,mu))`, in which we calculate the probability, and then take the log.\n",
    "\n",
    "\n",
    "Re-run the decoding substituting this expression:\n",
    "\n",
    "```\n",
    "posterior[i] = sum(np.log(poisson.pmf(spikes_count[t_bin,:],firing_rate_maps[:,i]/fps)+pow(1,-15)))\n",
    "```\n",
    "\n",
    "To the line we are using to calculate the posterior.\n",
    "Do you see any difference in the results? What do you think this is due to?\n",
    "\n",
    "\n"
   ]
  },
  {
   "cell_type": "code",
   "execution_count": 103,
   "metadata": {},
   "outputs": [
    {
     "name": "stderr",
     "output_type": "stream",
     "text": [
      "100%|██████████| 4375/4375 [00:03<00:00, 1116.60it/s]\n"
     ]
    },
    {
     "data": {
      "image/png": "[encoded data removed]",
      "text/plain": [
       "<Figure size 1000x500 with 1 Axes>"
      ]
     },
     "metadata": {},
     "output_type": "display_data"
    },
    {
     "name": "stdout",
     "output_type": "stream",
     "text": [
      "Median error: 3.4382885913650796 cm\n"
     ]
    }
   ],
   "source": [
    "noise_firing_rate = 0.1  # the baseline noise firing rate\n",
    "\n",
    "# Vectorized spikes generation\n",
    "spikes = []\n",
    "for i in range(n_cells):\n",
    "    inst_rate = true_firing_rate_maps[i,x_sampling.astype(np.int32)] + noise_firing_rate\n",
    "    spikes_loc = np.random.poisson(inst_rate/sampling_rate)\n",
    "    sp = np.argwhere(spikes_loc)\n",
    "    t_sp = t_sampling[sp]\n",
    "    spikes.append(t_sp)\n",
    "\n",
    "spike_positions = [np.interp(s, t, x) for s in spikes]\n",
    "space_bins = np.arange(0., track_length, 5.)  # binning in bins of 5 cms\n",
    "spikes_hist= [np.histogram(s, space_bins)[0] for s in spike_positions]\n",
    "spikes_hist = np.asarray(spikes_hist)\n",
    "\n",
    "# Compute occupancy histogram to normalize the firing rates maps\n",
    "occupancy= np.histogram(x, space_bins)[0] / fps\n",
    "\n",
    "# Compute firing rate maps\n",
    "firing_rate_maps = spikes_hist / occupancy # Ensure occupancy has proper shape\n",
    "\n",
    "# Transpose spikes count matrix\n",
    "spikes_count = np.array([np.histogram(s, t)[0] for s in spikes]).T  # Transpose to get samples x features shape\n",
    "\n",
    "# Decode positions\n",
    "true_x = x[:-1]\n",
    "decoding_times = t[:-1]\n",
    "x_decoded = np.full_like(true_x, np.nan)\n",
    "\n",
    "# Calculate posterior and decode\n",
    "for t_bin in tqdm(range(len(decoding_times))):\n",
    "    if sum(spikes_count[t_bin,:])>0: # Check if the time window contains spikes\n",
    "        posterior = np.empty(firing_rate_maps.shape[-1])\n",
    "\n",
    "        for j in range(len(posterior)):\n",
    "            # Note that we work with log so that we can sum probabilities\n",
    "            # instead of multiplying them \n",
    "            #posterior[j] = sum(np.log(poisson.pmf(spikes_count[t_bin,:],firing_rate_maps[:,j]/fps)+pow(1,-15)))\n",
    "            posterior[j] = sum(poisson.logpmf(spikes_count[t_bin,:],firing_rate_maps[:,j]/fps)+pow(1,-15))\n",
    "        x_decoded[t_bin] = space_bins[np.argmax(posterior)]\n",
    "    else:\n",
    "        x_decoded[t_bin] = np.nan\n",
    "\n",
    "# Compute error distribution\n",
    "mse = np.sqrt((true_x - x_decoded) ** 2)\n",
    "sns.histplot(mse, kde=False)\n",
    "plt.axvline(x=np.nanmedian(mse), color='r')\n",
    "plt.xlabel('Mean Squared Error (cm)')\n",
    "plt.ylabel('Frequency')\n",
    "plt.title('Error Distribution')\n",
    "plt.show()\n",
    "print(f'Median error: {np.nanmedian(mse)} cm')"
   ]
  },
  {
   "cell_type": "markdown",
   "metadata": {},
   "source": [
    "with the np.log(poisson.pmf), i get a median error of 34.82 cm.\n",
    "With the sum(poisson.logpmf) i get a median error of 3.44 cm."
   ]
  },
  {
   "cell_type": "markdown",
   "metadata": {},
   "source": [
    "## Exercise 3\n",
    "---\n",
    "A - Estimate the quality of the sequence detection methods we saw in the lesson. How many false poistive does it find? How many false negatives?\n",
    "\n",
    "B - Investigate the effect of `noise_x_react` and `noise_t_react` on the false positive rate and the false negative rate of our detection procedure.\n",
    "\n",
    "C - What kind of sequence can our methods detect? What kind of activity, despide being sequential, could escape our detection method? Would you have an idea for a different method for sequence detection?\n"
   ]
  },
  {
   "cell_type": "markdown",
   "metadata": {},
   "source": [
    "### Code for data generation"
   ]
  },
  {
   "cell_type": "code",
   "execution_count": 105,
   "metadata": {},
   "outputs": [],
   "source": [
    "# generate data \n",
    "\n",
    "n_events = 200 # number of reactivation events\n",
    "event_duration = 100 # in bins\n",
    "sampling_rate = 100 # sampling rate \n",
    "t_react = np.arange(0,100)\n",
    "noise_x_react=5; # Noise in the reactivation of the sequence\n",
    "noise_t_react=5; # Noise in the timing of the spikes \n",
    "noise_firing_rate = 0.1 # the baseline noise firing rate\n",
    "\n",
    "\n",
    "reactivation_events = np.zeros((n_events,event_duration))\n",
    "spikes_react = np.zeros((n_events,n_cells,event_duration))\n",
    "\n",
    "for event in range(n_events):\n",
    "    if(event<=n_events//2):\n",
    "    #Generate \"real\" sequences for the first half of events\n",
    "        x_start = np.random.uniform(0,track_length) # Starting point\n",
    "        x_end = np.random.uniform(0,track_length) # Ending point\n",
    "        x_react = np.linspace(x_start,x_end,event_duration) \\\n",
    "            +np.random.normal(0,noise_x_react,size=event_duration)\n",
    "\n",
    "    else:\n",
    "        #Pick locations randomly for the second half \n",
    "        x_react = np.random.uniform(0,track_length,size=event_duration);\n",
    "\n",
    "    x_react[x_react<0]=0;\n",
    "    x_react[x_react>track_length]=track_length\n",
    "    \n",
    "    #store reactivation sequence\n",
    "    reactivation_events[event,:] = x_react\n",
    "\n",
    "    \n",
    "    # Generate spikes according to the location being reactivated in this event\n",
    "    \n",
    "    for i in range(n_cells):\n",
    "        binned_x = np.digitize(x_react,bins=np.linspace(0,track_length,firing_rate_maps.shape[-1]))-1\n",
    "        inst_rate = firing_rate_maps[i,binned_x] + np.random.normal(0,noise_firing_rate,size=len(binned_x))\n",
    "        inst_rate[inst_rate<0] = 0\n",
    "        spikes_loc = np.where(np.random.poisson(inst_rate/sampling_rate)>0)\n",
    "        spikes_loc = spikes_loc + np.round(np.random.normal(0,noise_t_react,size=len(spikes_loc)))\n",
    "        spikes_loc = spikes_loc[np.logical_and(spikes_loc>0,spikes_loc<event_duration)]\n",
    "        spikes_react[event,i,spikes_loc.astype(int)] = 1"
   ]
  },
  {
   "cell_type": "code",
   "execution_count": 106,
   "metadata": {},
   "outputs": [],
   "source": [
    "pfc_idxs = [np.argmax(rate_map) for rate_map in firing_rate_maps] \n",
    "sorted_idxs = np.argsort(pfc_idxs)"
   ]
  },
  {
   "cell_type": "code",
   "execution_count": 107,
   "metadata": {},
   "outputs": [],
   "source": [
    "time_window = 10 # number of bins to aggregate during decoding\n",
    "\n",
    "reactivation_slope = np.zeros(n_events)\n",
    "\n",
    "for event in range(n_events):\n",
    "\n",
    "    event_spikes = spikes_react[event]\n",
    "    # First we bin the events in windows of 10 bins\n",
    "    spikes_sampled = np.zeros((n_cells,event_spikes.shape[1]//time_window))\n",
    "    # We generate a new spike matrix with the re-sized window\n",
    "    for t_r in range(1,event_spikes.shape[1]//time_window):\n",
    "        spikes_sampled[:,t_r] = np.sum(event_spikes[:,(t_r-1)*time_window :(t_r)*time_window],axis=1)"
   ]
  },
  {
   "cell_type": "markdown",
   "metadata": {},
   "source": [
    "exercise 3-A"
   ]
  },
  {
   "cell_type": "code",
   "execution_count": 123,
   "metadata": {},
   "outputs": [
    {
     "name": "stdout",
     "output_type": "stream",
     "text": [
      "False Positives: 6\n",
      "False Negatives: 93\n"
     ]
    }
   ],
   "source": [
    "n_events = 200  # number of reactivation events\n",
    "event_duration = 100  \n",
    "sampling_rate = 100  \n",
    "t_react = np.arange(0, 100)\n",
    "noise_x_react = 5  \n",
    "noise_t_react = 5  \n",
    "noise_firing_rate = 0.1  \n",
    "track_length = 100  \n",
    "n_cells = 50  \n",
    "firing_rate_maps = np.random.rand(n_cells, 20) \n",
    "fps = 30  \n",
    "space_bins = np.linspace(0, track_length, 20)  \n",
    "\n",
    "reactivation_events = np.zeros((n_events, event_duration))\n",
    "spikes_react = np.zeros((n_events, n_cells, event_duration))\n",
    "\n",
    "for event in range(n_events):\n",
    "    if event <= n_events // 2:\n",
    "        x_start = np.random.uniform(0, track_length)  \n",
    "        x_end = np.random.uniform(0, track_length)  \n",
    "        x_react = np.linspace(x_start, x_end, event_duration) + np.random.normal(0, noise_x_react, size=event_duration)\n",
    "    else:\n",
    "        x_react = np.random.uniform(0, track_length, size=event_duration)\n",
    "\n",
    "    x_react[x_react < 0] = 0\n",
    "    x_react[x_react > track_length] = track_length\n",
    "    \n",
    "    reactivation_events[event, :] = x_react\n",
    "\n",
    "    for i in range(n_cells):\n",
    "        binned_x = np.digitize(x_react, bins=np.linspace(0, track_length, firing_rate_maps.shape[-1])) - 1\n",
    "        inst_rate = firing_rate_maps[i, binned_x] + np.random.normal(0, noise_firing_rate, size=len(binned_x))\n",
    "        inst_rate[inst_rate < 0] = 0\n",
    "        spikes_loc = np.where(np.random.poisson(inst_rate / sampling_rate) > 0)[0]\n",
    "        spikes_loc = spikes_loc + np.round(np.random.normal(0, noise_t_react, size=len(spikes_loc)))\n",
    "        spikes_loc = spikes_loc[np.logical_and(spikes_loc > 0, spikes_loc < event_duration)]\n",
    "        spikes_react[event, i, spikes_loc.astype(int)] = 1\n",
    "\n",
    "# to do: bayesian decoding\n",
    "t_resize = 10  # We use spikes from multiple time windows for the decoding\n",
    "\n",
    "reactivation_slopes = np.zeros(n_events)\n",
    "reactivation_pvalues = np.zeros(n_events)\n",
    "\n",
    "for event in range(n_events):\n",
    "    event_spikes = spikes_react[event]\n",
    "    spikes_sampled = np.zeros((n_cells, event_spikes.shape[1] // t_resize))\n",
    "\n",
    "    # We generate a new spike matrix with the re-sized window\n",
    "    for t_r in range(1, event_spikes.shape[1] // t_resize):\n",
    "        spikes_sampled[:, t_r] = np.sum(event_spikes[:, (t_r - 1) * t_resize: t_r * t_resize], axis=1)\n",
    "    \n",
    "    # We then perform decoding on the aggregated spikes\n",
    "    x_decoded = np.zeros(spikes_sampled.shape[1])\n",
    "\n",
    "    for t_bin in range(spikes_sampled.shape[1]):\n",
    "        if sum(spikes_sampled[:, t_bin]) > 0: # Check if the time window contains spikes\n",
    "            posterior = np.empty(firing_rate_maps.shape[-1])\n",
    "            for i in range(len(posterior)):\n",
    "                posterior[i] = sum(poisson.logpmf(spikes_sampled[:, t_bin], firing_rate_maps[:, i] * t_resize / fps) + pow(1, -15))\n",
    "            x_decoded[t_bin] = space_bins[np.argmax(posterior)]\n",
    "        else:\n",
    "            x_decoded[t_bin] = np.nan\n",
    "            \n",
    "    # We fit a line to the decoded positions, and save the slope\n",
    "        idx = np.isfinite(x_decoded)\n",
    "        slope, _ = np.polyfit(np.arange(len(x_decoded))[idx], x_decoded[idx], deg=1)\n",
    "        reactivation_slopes[event] = slope\n",
    "        # And calculate the pvalue of the pearson correlation\n",
    "        corr = pearsonr(np.arange(len(x_decoded))[idx], x_decoded[idx])\n",
    "        reactivation_pvalues[event] = corr[1]\n",
    "\n",
    "p_value_threshold = 0.05\n",
    "event_detections = []\n",
    "\n",
    "for event in range (n_events):\n",
    "    if reactivation_pvalues[event] < p_value_threshold:\n",
    "        event_detections.append(event)\n",
    "event_detections = np.array(event_detections)\n",
    "\n",
    "ground_truth = np.arange(100)\n",
    "false_positives = np.setdiff1d(event_detections, ground_truth)\n",
    "false_negatives = np.setdiff1d(ground_truth, event_detections)\n",
    "false_positives = sum((reactivation_pvalues[n_events//2:] < p_value_threshold))\n",
    "false_negatives = sum((reactivation_pvalues[:n_events//2] >= p_value_threshold))\n",
    "\n",
    "\n",
    "\n",
    "print(f\"False Positives: {false_positives}\")\n",
    "print(f\"False Negatives: {false_negatives}\")\n",
    "\n"
   ]
  },
  {
   "cell_type": "markdown",
   "metadata": {},
   "source": [
    "exercise 3-B"
   ]
  },
  {
   "cell_type": "code",
   "execution_count": 161,
   "metadata": {},
   "outputs": [
    {
     "name": "stderr",
     "output_type": "stream",
     "text": [
      "100%|██████████| 11/11 [00:04<00:00,  2.65it/s]"
     ]
    },
    {
     "name": "stdout",
     "output_type": "stream",
     "text": [
      "[[ 7. 95.]\n",
      " [ 4. 93.]\n",
      " [10. 97.]\n",
      " [12. 86.]\n",
      " [ 8. 93.]\n",
      " [10. 95.]\n",
      " [ 7. 93.]\n",
      " [ 5. 92.]\n",
      " [16. 91.]\n",
      " [15. 85.]\n",
      " [12. 84.]]\n"
     ]
    },
    {
     "name": "stderr",
     "output_type": "stream",
     "text": [
      "\n"
     ]
    }
   ],
   "source": [
    "# Define parameters\n",
    "noise_values = np.array([0, 0.2, 0.4, 0.6, 0.8, 1, 2, 4, 8, 16, 32])\n",
    "false_p_n = np.zeros([len(noise_values), 2])\n",
    "\n",
    "n_events = 200  \n",
    "event_duration = 100  \n",
    "sampling_rate = 100  \n",
    "time_window = 10 \n",
    "t_resize = 10  \n",
    "n_cells = 10 \n",
    "track_length = 50  \n",
    "fps = 10\n",
    "\n",
    "\n",
    "firing_rate_maps = np.random.rand(n_cells, 20)\n",
    "\n",
    "# Assuming reactivation_pvalues is defined somewhere in the script\n",
    "reactivation_pvalues = np.random.rand(n_events)\n",
    "\n",
    "for i in tqdm(range(len(noise_values))):\n",
    "    noise_x_react = noise_values[i]  \n",
    "    noise_t_react = noise_values[i]  \n",
    "    noise_firing_rate = 0.1 \n",
    "\n",
    "    reactivation_events = np.zeros((n_events, event_duration))\n",
    "    spikes_react = np.zeros((n_events, n_cells, event_duration))\n",
    "\n",
    "    for event in range(n_events):\n",
    "        if event <= n_events // 2:\n",
    "            # Generate \"real\" sequences for the first half of events\n",
    "            x_start = np.random.uniform(0, track_length)  \n",
    "            x_end = np.random.uniform(0, track_length)  \n",
    "            x_react = np.linspace(x_start, x_end, event_duration) + np.random.normal(0, noise_x_react, size=event_duration)\n",
    "        else:\n",
    "            # Pick locations randomly for the second half\n",
    "            x_react = np.random.uniform(0, track_length, size=event_duration)\n",
    "\n",
    "        # Ensure x_react values are within the track length\n",
    "        x_react[x_react < 0] = 0\n",
    "        x_react[x_react > track_length] = track_length\n",
    "\n",
    "        # Store reactivation sequence\n",
    "        reactivation_events[event, :] = x_react\n",
    "\n",
    "        # Generate spikes according to the location being reactivated in this event\n",
    "        for cell in range(n_cells):\n",
    "            binned_x = np.digitize(x_react, bins=np.linspace(0, track_length, firing_rate_maps.shape[1])) - 1\n",
    "            # Ensure the indices are within the bounds\n",
    "            binned_x[binned_x >= firing_rate_maps.shape[1]] = firing_rate_maps.shape[1] - 1\n",
    "            binned_x[binned_x < 0] = 0\n",
    "            \n",
    "            inst_rate = firing_rate_maps[cell, binned_x] + np.random.normal(0, noise_firing_rate, size=len(binned_x))\n",
    "            inst_rate[inst_rate < 0] = 0\n",
    "            spikes_loc = np.where(np.random.poisson(inst_rate / sampling_rate) > 0)[0]\n",
    "            spikes_loc = spikes_loc + np.round(np.random.normal(0, noise_t_react, size=len(spikes_loc))).astype(int)\n",
    "            spikes_loc = spikes_loc[np.logical_and(spikes_loc > 0, spikes_loc < event_duration)]\n",
    "            spikes_react[event, cell, spikes_loc] = 1\n",
    "\n",
    "    reactivation_slopes = np.zeros(n_events)\n",
    "    reactivation_pvalues = np.zeros(n_events)\n",
    "\n",
    "    for event in range(n_events):\n",
    "        event_spikes = spikes_react[event]\n",
    "        spikes_sampled = np.zeros((n_cells, event_spikes.shape[1] // t_resize))\n",
    "\n",
    "        # Generate a new spike matrix with the re-sized window\n",
    "        for t_r in range(1, event_spikes.shape[1] // t_resize):\n",
    "            spikes_sampled[:, t_r] = np.sum(event_spikes[:, (t_r - 1) * t_resize: t_r * t_resize], axis=1)\n",
    "\n",
    "        # Perform decoding on the aggregated spikes\n",
    "        x_decoded = np.zeros(spikes_sampled.shape[1])\n",
    "        space_bins = np.linspace(0, track_length, firing_rate_maps.shape[1])\n",
    "\n",
    "        for t_bin in range(spikes_sampled.shape[1]):\n",
    "            if np.sum(spikes_sampled[:, t_bin]) > 0:  # Check if the time window contains spikes\n",
    "                posterior = np.empty(firing_rate_maps.shape[-1])\n",
    "                for j in range(len(posterior)):\n",
    "                    posterior[j] = np.sum(poisson.logpmf(spikes_sampled[:, t_bin], firing_rate_maps[:, j] * t_resize / fps))\n",
    "                x_decoded[t_bin] = space_bins[np.argmax(posterior)]\n",
    "            else:\n",
    "                x_decoded[t_bin] = np.nan\n",
    "\n",
    "        # Fit a line to the decoded positions, and save the slope\n",
    "        idx = np.isfinite(x_decoded)\n",
    "        if np.sum(idx) > 1:  \n",
    "            slope, _ = np.polyfit(np.arange(len(x_decoded[idx])), x_decoded[idx], deg=1)\n",
    "            reactivation_slopes[event] = slope\n",
    "            # Calculate the p-value of the Pearson correlation\n",
    "            corr = pearsonr(np.arange(len(x_decoded[idx])), x_decoded[idx])\n",
    "            reactivation_pvalues[event] = corr[1]\n",
    "\n",
    "\n",
    "    p_value_threshold = 0.05\n",
    "    event_detections = []\n",
    "\n",
    "    for event in range(n_events):\n",
    "        if reactivation_pvalues[event] < p_value_threshold:\n",
    "            event_detections.append(event)\n",
    "    event_detections = np.array(event_detections)\n",
    "\n",
    "    \n",
    "    ground_truth = np.arange(n_events // 2)  \n",
    "    false_positives = np.setdiff1d(event_detections, ground_truth)\n",
    "    false_negatives = np.setdiff1d(ground_truth, event_detections)\n",
    "\n",
    "    num_false_positives = len(false_positives)\n",
    "    num_false_negatives = len(false_negatives)\n",
    "    false_p_n[i, 0] = num_false_positives\n",
    "    false_p_n[i, 1] = num_false_negatives\n",
    "\n",
    "print(false_p_n)\n"
   ]
  },
  {
   "cell_type": "code",
   "execution_count": 162,
   "metadata": {},
   "outputs": [
    {
     "data": {
      "image/png": "[encoded data removed]",
      "text/plain": [
       "<Figure size 1000x600 with 1 Axes>"
      ]
     },
     "metadata": {},
     "output_type": "display_data"
    }
   ],
   "source": [
    "plt.figure(figsize=(10, 6))\n",
    "plt.plot(noise_values, false_p_n[:, 0], label='False Positives', marker='o')\n",
    "plt.plot(noise_values, false_p_n[:, 1], label='False Negatives', marker='o')\n",
    "plt.xlabel('Noise Level')\n",
    "plt.ylabel('Count')\n",
    "plt.title('False Positives and False Negatives vs Noise Level')\n",
    "plt.legend()\n",
    "plt.grid(True)\n",
    "plt.show()"
   ]
  },
  {
   "cell_type": "markdown",
   "metadata": {},
   "source": [
    "It seems that the noise level has little effect on our false positives and negatives. There is a small increase in false positives with greater noise levels. However, this result is still pretty good."
   ]
  },
  {
   "cell_type": "markdown",
   "metadata": {},
   "source": [
    "Exercise 3-C\n",
    "\n",
    "\n",
    "We find that, our strategy is effective for recording successive events. Nevertheless, there are circumstances in which our system could fail to recognize a sequence event. For instance, it can have trouble identifying sequential activity that happens very quickly. Rapidly occurring sequential events may not be adequately recorded if our sample rate is too low or our time frame is too wide.\n",
    "\n",
    "Furthermore, our method assumes a linear route for consecutive activity patterns and fits straight lines to estimate slopes. Which might lead to not being able to adequately capture the underlying sequence in cases when sequential activity shows complicated dynamics or a non-linear trajectory.\n",
    "\n"
   ]
  },
  {
   "cell_type": "markdown",
   "metadata": {},
   "source": []
  }
 ],
 "metadata": {
  "kernelspec": {
   "display_name": "Python 3 (ipykernel)",
   "language": "python",
   "name": "python3"
  },
  "language_info": {
   "codemirror_mode": {
    "name": "ipython",
    "version": 3
   },
   "file_extension": ".py",
   "mimetype": "text/x-python",
   "name": "python",
   "nbconvert_exporter": "python",
   "pygments_lexer": "ipython3",
   "version": "3.11.5"
  },
  "vscode": {
   "interpreter": {
    "hash": "ec757111aa82fc412dab5a41ba1a33fdb6db5c8112df3ff06fec0dbff050b412"
   }
  }
 },
 "nbformat": 4,
 "nbformat_minor": 4
}
